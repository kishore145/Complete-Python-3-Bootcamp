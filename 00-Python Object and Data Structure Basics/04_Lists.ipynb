{
  "nbformat": 4,
  "nbformat_minor": 0,
  "metadata": {
    "kernelspec": {
      "display_name": "Python 3",
      "language": "python",
      "name": "python3"
    },
    "language_info": {
      "codemirror_mode": {
        "name": "ipython",
        "version": 3
      },
      "file_extension": ".py",
      "mimetype": "text/x-python",
      "name": "python",
      "nbconvert_exporter": "python",
      "pygments_lexer": "ipython3",
      "version": "3.6.6"
    },
    "colab": {
      "name": "04-Lists.ipynb",
      "provenance": [],
      "include_colab_link": true
    }
  },
  "cells": [
    {
      "cell_type": "markdown",
      "metadata": {
        "id": "view-in-github",
        "colab_type": "text"
      },
      "source": [
        "<a href=\"https://colab.research.google.com/github/kishore145/Complete-Python-3-Bootcamp/blob/master/00-Python%20Object%20and%20Data%20Structure%20Basics/04_Lists.ipynb\" target=\"_parent\"><img src=\"https://colab.research.google.com/assets/colab-badge.svg\" alt=\"Open In Colab\"/></a>"
      ]
    },
    {
      "cell_type": "markdown",
      "metadata": {
        "id": "UmmttoLwbYYb",
        "colab_type": "text"
      },
      "source": [
        "# Lists\n",
        "\n",
        "Earlier when discussing strings we introduced the concept of a *sequence* in Python. Lists can be thought of the most general version of a *sequence* in Python. Unlike strings, they are mutable, meaning the elements inside a list can be changed!\n",
        "\n",
        "In this section we will learn about:\n",
        "    \n",
        "    1.) Creating lists\n",
        "    2.) Indexing and Slicing Lists\n",
        "    3.) Basic List Methods\n",
        "    4.) Nesting Lists\n",
        "    5.) Introduction to List Comprehensions\n",
        "\n",
        "Lists are constructed with brackets [] and commas separating every element in the list.\n",
        "\n",
        "Let's go ahead and see how we can construct lists!"
      ]
    },
    {
      "cell_type": "code",
      "metadata": {
        "id": "mol-Erx9bYYl",
        "colab_type": "code",
        "colab": {
          "base_uri": "https://localhost:8080/",
          "height": 35
        },
        "outputId": "05d2c6ee-a464-4ad9-82a5-449e6b580c72"
      },
      "source": [
        "# Assign a list to an variable named my_list\n",
        "my_list = [1,2,3]\n",
        "my_list"
      ],
      "execution_count": 3,
      "outputs": [
        {
          "output_type": "execute_result",
          "data": {
            "text/plain": [
              "[1, 2, 3]"
            ]
          },
          "metadata": {
            "tags": []
          },
          "execution_count": 3
        }
      ]
    },
    {
      "cell_type": "markdown",
      "metadata": {
        "id": "h84ggh-YbYZe",
        "colab_type": "text"
      },
      "source": [
        "We just created a list of integers, but lists can actually hold different object types. For example:"
      ]
    },
    {
      "cell_type": "code",
      "metadata": {
        "id": "4HakoC0ubYZk",
        "colab_type": "code",
        "colab": {
          "base_uri": "https://localhost:8080/",
          "height": 35
        },
        "outputId": "b2e7a3a4-04c0-42b4-c281-d20e58ee2a7f"
      },
      "source": [
        "my_list = ['A string',23,100.232,'o']\n",
        "my_list"
      ],
      "execution_count": 4,
      "outputs": [
        {
          "output_type": "execute_result",
          "data": {
            "text/plain": [
              "['A string', 23, 100.232, 'o']"
            ]
          },
          "metadata": {
            "tags": []
          },
          "execution_count": 4
        }
      ]
    },
    {
      "cell_type": "markdown",
      "metadata": {
        "id": "bTt_g4_pbYaB",
        "colab_type": "text"
      },
      "source": [
        "Just like strings, the len() function will tell you how many items are in the sequence of the list."
      ]
    },
    {
      "cell_type": "code",
      "metadata": {
        "id": "3c77ctmYbYaG",
        "colab_type": "code",
        "colab": {
          "base_uri": "https://localhost:8080/",
          "height": 35
        },
        "outputId": "4062c233-6a7c-4007-d520-472243a838b3"
      },
      "source": [
        "len(my_list)"
      ],
      "execution_count": 5,
      "outputs": [
        {
          "output_type": "execute_result",
          "data": {
            "text/plain": [
              "4"
            ]
          },
          "metadata": {
            "tags": []
          },
          "execution_count": 5
        }
      ]
    },
    {
      "cell_type": "markdown",
      "metadata": {
        "id": "G5KWIZvIbYai",
        "colab_type": "text"
      },
      "source": [
        "### Indexing and Slicing\n",
        "Indexing and slicing work just like in strings. Let's make a new list to remind ourselves of how this works:"
      ]
    },
    {
      "cell_type": "code",
      "metadata": {
        "id": "rxcmbUFUbYav",
        "colab_type": "code",
        "colab": {}
      },
      "source": [
        "my_list = ['one','two','three',4,5]"
      ],
      "execution_count": 6,
      "outputs": []
    },
    {
      "cell_type": "code",
      "metadata": {
        "id": "iowx5ptUbYbG",
        "colab_type": "code",
        "colab": {
          "base_uri": "https://localhost:8080/",
          "height": 36
        },
        "outputId": "29f46afa-c708-4723-9b0f-f641326ba538"
      },
      "source": [
        "# Grab element at index 0\n",
        "my_list[0]"
      ],
      "execution_count": 7,
      "outputs": [
        {
          "output_type": "execute_result",
          "data": {
            "application/vnd.google.colaboratory.intrinsic": {
              "type": "string"
            },
            "text/plain": [
              "'one'"
            ]
          },
          "metadata": {
            "tags": []
          },
          "execution_count": 7
        }
      ]
    },
    {
      "cell_type": "code",
      "metadata": {
        "id": "M2_bGsKAbYbk",
        "colab_type": "code",
        "colab": {
          "base_uri": "https://localhost:8080/",
          "height": 35
        },
        "outputId": "88484ced-944f-40fc-c86d-d8b23a5b1b55"
      },
      "source": [
        "# Grab index 1 and everything past it\n",
        "my_list[1:]"
      ],
      "execution_count": 8,
      "outputs": [
        {
          "output_type": "execute_result",
          "data": {
            "text/plain": [
              "['two', 'three', 4, 5]"
            ]
          },
          "metadata": {
            "tags": []
          },
          "execution_count": 8
        }
      ]
    },
    {
      "cell_type": "code",
      "metadata": {
        "id": "kXjcpdtqbYb2",
        "colab_type": "code",
        "colab": {
          "base_uri": "https://localhost:8080/",
          "height": 35
        },
        "outputId": "0973ed61-3965-4b2d-c00d-d2285aefb7b2"
      },
      "source": [
        "# Grab everything UP TO index 3\n",
        "my_list[:3]"
      ],
      "execution_count": 9,
      "outputs": [
        {
          "output_type": "execute_result",
          "data": {
            "text/plain": [
              "['one', 'two', 'three']"
            ]
          },
          "metadata": {
            "tags": []
          },
          "execution_count": 9
        }
      ]
    },
    {
      "cell_type": "markdown",
      "metadata": {
        "id": "z0v_h5oKbYcI",
        "colab_type": "text"
      },
      "source": [
        "We can also use + to concatenate lists, just like we did for strings."
      ]
    },
    {
      "cell_type": "code",
      "metadata": {
        "id": "YjtNmhvCbYcM",
        "colab_type": "code",
        "colab": {
          "base_uri": "https://localhost:8080/",
          "height": 35
        },
        "outputId": "b8e04f85-4794-4cd7-e9a2-bae78a24e193"
      },
      "source": [
        "my_list + ['new item']"
      ],
      "execution_count": 10,
      "outputs": [
        {
          "output_type": "execute_result",
          "data": {
            "text/plain": [
              "['one', 'two', 'three', 4, 5, 'new item']"
            ]
          },
          "metadata": {
            "tags": []
          },
          "execution_count": 10
        }
      ]
    },
    {
      "cell_type": "markdown",
      "metadata": {
        "id": "6AVaPRQ4bYch",
        "colab_type": "text"
      },
      "source": [
        "Note: This doesn't actually change the original list!"
      ]
    },
    {
      "cell_type": "code",
      "metadata": {
        "id": "f2D86cIsbYcj",
        "colab_type": "code",
        "colab": {
          "base_uri": "https://localhost:8080/",
          "height": 35
        },
        "outputId": "7b691c69-a346-42db-914f-da13f07502da"
      },
      "source": [
        "my_list"
      ],
      "execution_count": 11,
      "outputs": [
        {
          "output_type": "execute_result",
          "data": {
            "text/plain": [
              "['one', 'two', 'three', 4, 5]"
            ]
          },
          "metadata": {
            "tags": []
          },
          "execution_count": 11
        }
      ]
    },
    {
      "cell_type": "markdown",
      "metadata": {
        "id": "updW6bKXbYc2",
        "colab_type": "text"
      },
      "source": [
        "You would have to reassign the list to make the change permanent."
      ]
    },
    {
      "cell_type": "code",
      "metadata": {
        "id": "Oju-u4BSbYc5",
        "colab_type": "code",
        "colab": {}
      },
      "source": [
        "# Reassign\n",
        "my_list = my_list + ['add new item permanently']"
      ],
      "execution_count": 12,
      "outputs": []
    },
    {
      "cell_type": "code",
      "metadata": {
        "id": "rTWvL8TwbYdK",
        "colab_type": "code",
        "colab": {
          "base_uri": "https://localhost:8080/",
          "height": 35
        },
        "outputId": "bd11333a-06a3-4da4-fa99-f97584a9d422"
      },
      "source": [
        "my_list"
      ],
      "execution_count": 13,
      "outputs": [
        {
          "output_type": "execute_result",
          "data": {
            "text/plain": [
              "['one', 'two', 'three', 4, 5, 'add new item permanently']"
            ]
          },
          "metadata": {
            "tags": []
          },
          "execution_count": 13
        }
      ]
    },
    {
      "cell_type": "markdown",
      "metadata": {
        "id": "pKk1PO4BbYdX",
        "colab_type": "text"
      },
      "source": [
        "We can also use the * for a duplication method similar to strings:"
      ]
    },
    {
      "cell_type": "code",
      "metadata": {
        "id": "vHkhdbUrbYdY",
        "colab_type": "code",
        "colab": {
          "base_uri": "https://localhost:8080/",
          "height": 237
        },
        "outputId": "2313d696-2fa1-4ceb-d3ae-1d6685732c13"
      },
      "source": [
        "# Make the list double\n",
        "my_list * 2"
      ],
      "execution_count": 14,
      "outputs": [
        {
          "output_type": "execute_result",
          "data": {
            "text/plain": [
              "['one',\n",
              " 'two',\n",
              " 'three',\n",
              " 4,\n",
              " 5,\n",
              " 'add new item permanently',\n",
              " 'one',\n",
              " 'two',\n",
              " 'three',\n",
              " 4,\n",
              " 5,\n",
              " 'add new item permanently']"
            ]
          },
          "metadata": {
            "tags": []
          },
          "execution_count": 14
        }
      ]
    },
    {
      "cell_type": "code",
      "metadata": {
        "id": "6h4JrkKdbYdi",
        "colab_type": "code",
        "colab": {
          "base_uri": "https://localhost:8080/",
          "height": 35
        },
        "outputId": "4eb0f6e7-bcae-4518-eb38-a11a3455cee3"
      },
      "source": [
        "# Again doubling not permanent\n",
        "my_list"
      ],
      "execution_count": 15,
      "outputs": [
        {
          "output_type": "execute_result",
          "data": {
            "text/plain": [
              "['one', 'two', 'three', 4, 5, 'add new item permanently']"
            ]
          },
          "metadata": {
            "tags": []
          },
          "execution_count": 15
        }
      ]
    },
    {
      "cell_type": "markdown",
      "metadata": {
        "id": "YF6ZcM7-bYdw",
        "colab_type": "text"
      },
      "source": [
        "## Basic List Methods\n",
        "\n",
        "If you are familiar with another programming language, you might start to draw parallels between arrays in another language and lists in Python. Lists in Python however, tend to be more flexible than arrays in other languages for a two good reasons: they have no fixed size (meaning we don't have to specify how big a list will be), and they have no fixed type constraint (like we've seen above).\n",
        "\n",
        "Let's go ahead and explore some more special methods for lists:"
      ]
    },
    {
      "cell_type": "code",
      "metadata": {
        "id": "YTaCgxyKbYdy",
        "colab_type": "code",
        "colab": {
          "base_uri": "https://localhost:8080/",
          "height": 35
        },
        "outputId": "5e3639d5-0bc8-4244-b058-9d22fe8fc565"
      },
      "source": [
        "# Create a new list\n",
        "list1 = [1,2,3]\n",
        "list1"
      ],
      "execution_count": 17,
      "outputs": [
        {
          "output_type": "execute_result",
          "data": {
            "text/plain": [
              "[1, 2, 3]"
            ]
          },
          "metadata": {
            "tags": []
          },
          "execution_count": 17
        }
      ]
    },
    {
      "cell_type": "markdown",
      "metadata": {
        "id": "gGfab1f-bYd7",
        "colab_type": "text"
      },
      "source": [
        "Use the **append** method to permanently add an item to the end of a list:"
      ]
    },
    {
      "cell_type": "code",
      "metadata": {
        "id": "e5rqD6wRbYd8",
        "colab_type": "code",
        "colab": {}
      },
      "source": [
        "# Append\n",
        "list1.append('append me!')"
      ],
      "execution_count": 18,
      "outputs": []
    },
    {
      "cell_type": "code",
      "metadata": {
        "id": "_2RMGoL9bYeF",
        "colab_type": "code",
        "colab": {
          "base_uri": "https://localhost:8080/",
          "height": 35
        },
        "outputId": "27e73c4a-0c0a-41c9-e3a8-53d0fac08682"
      },
      "source": [
        "# Show\n",
        "list1"
      ],
      "execution_count": 19,
      "outputs": [
        {
          "output_type": "execute_result",
          "data": {
            "text/plain": [
              "[1, 2, 3, 'append me!']"
            ]
          },
          "metadata": {
            "tags": []
          },
          "execution_count": 19
        }
      ]
    },
    {
      "cell_type": "markdown",
      "metadata": {
        "id": "IncLHLuWbYeV",
        "colab_type": "text"
      },
      "source": [
        "Use **pop** to \"pop off\" an item from the list. By default pop takes off the last index, but you can also specify which index to pop off. Let's see an example:"
      ]
    },
    {
      "cell_type": "code",
      "metadata": {
        "id": "3CBeJRWIbYeW",
        "colab_type": "code",
        "colab": {
          "base_uri": "https://localhost:8080/",
          "height": 35
        },
        "outputId": "2edeb35c-5151-44d8-db87-b288e0505870"
      },
      "source": [
        "# Pop off the 0 indexed item\n",
        "list1.pop(0)"
      ],
      "execution_count": 20,
      "outputs": [
        {
          "output_type": "execute_result",
          "data": {
            "text/plain": [
              "1"
            ]
          },
          "metadata": {
            "tags": []
          },
          "execution_count": 20
        }
      ]
    },
    {
      "cell_type": "code",
      "metadata": {
        "id": "ESXJICUVbYef",
        "colab_type": "code",
        "colab": {
          "base_uri": "https://localhost:8080/",
          "height": 35
        },
        "outputId": "6d1d7f85-950d-4f98-af57-44ff40d93de1"
      },
      "source": [
        "# Show\n",
        "list1"
      ],
      "execution_count": 21,
      "outputs": [
        {
          "output_type": "execute_result",
          "data": {
            "text/plain": [
              "[2, 3, 'append me!']"
            ]
          },
          "metadata": {
            "tags": []
          },
          "execution_count": 21
        }
      ]
    },
    {
      "cell_type": "code",
      "metadata": {
        "id": "rCDq_JbcbYes",
        "colab_type": "code",
        "colab": {}
      },
      "source": [
        "# Assign the popped element, remember default popped index is -1\n",
        "popped_item = list1.pop()"
      ],
      "execution_count": 22,
      "outputs": []
    },
    {
      "cell_type": "code",
      "metadata": {
        "id": "WJ7mTMoWbYe1",
        "colab_type": "code",
        "colab": {
          "base_uri": "https://localhost:8080/",
          "height": 36
        },
        "outputId": "15439f76-23b7-4058-b1df-eea30b5d3922"
      },
      "source": [
        "popped_item"
      ],
      "execution_count": 23,
      "outputs": [
        {
          "output_type": "execute_result",
          "data": {
            "application/vnd.google.colaboratory.intrinsic": {
              "type": "string"
            },
            "text/plain": [
              "'append me!'"
            ]
          },
          "metadata": {
            "tags": []
          },
          "execution_count": 23
        }
      ]
    },
    {
      "cell_type": "code",
      "metadata": {
        "id": "oJftOp6BbYe_",
        "colab_type": "code",
        "colab": {
          "base_uri": "https://localhost:8080/",
          "height": 35
        },
        "outputId": "f3d068ae-8621-485a-a25e-850df170f9a7"
      },
      "source": [
        "# Show remaining list\n",
        "list1"
      ],
      "execution_count": 24,
      "outputs": [
        {
          "output_type": "execute_result",
          "data": {
            "text/plain": [
              "[2, 3]"
            ]
          },
          "metadata": {
            "tags": []
          },
          "execution_count": 24
        }
      ]
    },
    {
      "cell_type": "markdown",
      "metadata": {
        "id": "aNHAlo2tbYfM",
        "colab_type": "text"
      },
      "source": [
        "It should also be noted that lists indexing will return an error if there is no element at that index. For example:"
      ]
    },
    {
      "cell_type": "code",
      "metadata": {
        "id": "JXgUPuTSbYfP",
        "colab_type": "code",
        "colab": {
          "base_uri": "https://localhost:8080/",
          "height": 172
        },
        "outputId": "cfe417d5-fc55-4e14-ef43-533b8d761e63"
      },
      "source": [
        "list1[100]"
      ],
      "execution_count": 25,
      "outputs": [
        {
          "output_type": "error",
          "ename": "IndexError",
          "evalue": "ignored",
          "traceback": [
            "\u001b[0;31m---------------------------------------------------------------------------\u001b[0m",
            "\u001b[0;31mIndexError\u001b[0m                                Traceback (most recent call last)",
            "\u001b[0;32m<ipython-input-25-af6d2015fa1f>\u001b[0m in \u001b[0;36m<module>\u001b[0;34m()\u001b[0m\n\u001b[0;32m----> 1\u001b[0;31m \u001b[0mlist1\u001b[0m\u001b[0;34m[\u001b[0m\u001b[0;36m100\u001b[0m\u001b[0;34m]\u001b[0m\u001b[0;34m\u001b[0m\u001b[0;34m\u001b[0m\u001b[0m\n\u001b[0m",
            "\u001b[0;31mIndexError\u001b[0m: list index out of range"
          ]
        }
      ]
    },
    {
      "cell_type": "markdown",
      "metadata": {
        "id": "UzznppxubYfY",
        "colab_type": "text"
      },
      "source": [
        "We can use the **sort** method and the **reverse** methods to also effect your lists:"
      ]
    },
    {
      "cell_type": "code",
      "metadata": {
        "id": "hm3ahtTwbYfZ",
        "colab_type": "code",
        "colab": {}
      },
      "source": [
        "new_list = ['a','e','x','b','c']"
      ],
      "execution_count": 26,
      "outputs": []
    },
    {
      "cell_type": "code",
      "metadata": {
        "id": "XD0xqIqobYfk",
        "colab_type": "code",
        "colab": {
          "base_uri": "https://localhost:8080/",
          "height": 35
        },
        "outputId": "3ec711a5-e85b-42fb-c024-9bc5480783a1"
      },
      "source": [
        "#Show\n",
        "new_list"
      ],
      "execution_count": 27,
      "outputs": [
        {
          "output_type": "execute_result",
          "data": {
            "text/plain": [
              "['a', 'e', 'x', 'b', 'c']"
            ]
          },
          "metadata": {
            "tags": []
          },
          "execution_count": 27
        }
      ]
    },
    {
      "cell_type": "code",
      "metadata": {
        "id": "un2H2tzZbYfs",
        "colab_type": "code",
        "colab": {}
      },
      "source": [
        "# Use reverse to reverse order (this is permanent!)\n",
        "new_list.reverse()"
      ],
      "execution_count": 28,
      "outputs": []
    },
    {
      "cell_type": "code",
      "metadata": {
        "id": "eAkNOjc3bYf3",
        "colab_type": "code",
        "colab": {
          "base_uri": "https://localhost:8080/",
          "height": 35
        },
        "outputId": "5ee51267-9233-4ca5-c00b-e92cb0a06e3b"
      },
      "source": [
        "new_list"
      ],
      "execution_count": 29,
      "outputs": [
        {
          "output_type": "execute_result",
          "data": {
            "text/plain": [
              "['c', 'b', 'x', 'e', 'a']"
            ]
          },
          "metadata": {
            "tags": []
          },
          "execution_count": 29
        }
      ]
    },
    {
      "cell_type": "code",
      "metadata": {
        "id": "3uhRBK1HbYf_",
        "colab_type": "code",
        "colab": {}
      },
      "source": [
        "# Use sort to sort the list (in this case alphabetical order, but for numbers it will go ascending)\n",
        "new_list.sort()"
      ],
      "execution_count": 30,
      "outputs": []
    },
    {
      "cell_type": "code",
      "metadata": {
        "id": "4iv8hTL_bYgN",
        "colab_type": "code",
        "colab": {
          "base_uri": "https://localhost:8080/",
          "height": 35
        },
        "outputId": "557710b0-bfe5-4ef9-c5da-19981c8ba3fe"
      },
      "source": [
        "new_list"
      ],
      "execution_count": 31,
      "outputs": [
        {
          "output_type": "execute_result",
          "data": {
            "text/plain": [
              "['a', 'b', 'c', 'e', 'x']"
            ]
          },
          "metadata": {
            "tags": []
          },
          "execution_count": 31
        }
      ]
    },
    {
      "cell_type": "markdown",
      "metadata": {
        "id": "oZnXRvvfbYgh",
        "colab_type": "text"
      },
      "source": [
        "## Nesting Lists\n",
        "A great feature of of Python data structures is that they support *nesting*. This means we can have data structures within data structures. For example: A list inside a list.\n",
        "\n",
        "Let's see how this works!"
      ]
    },
    {
      "cell_type": "code",
      "metadata": {
        "id": "wtmE39i9bYgj",
        "colab_type": "code",
        "colab": {}
      },
      "source": [
        "# Let's make three lists\n",
        "lst_1=[1,2,3]\n",
        "lst_2=[4,5,6]\n",
        "lst_3=[7,8,9]\n",
        "\n",
        "# Make a list of lists to form a matrix\n",
        "matrix = [lst_1,lst_2,lst_3]"
      ],
      "execution_count": 32,
      "outputs": []
    },
    {
      "cell_type": "code",
      "metadata": {
        "id": "gZzEd0IzbYgt",
        "colab_type": "code",
        "colab": {
          "base_uri": "https://localhost:8080/",
          "height": 35
        },
        "outputId": "fc591b9d-6f86-446a-a0b9-0f3f21c42273"
      },
      "source": [
        "# Show\n",
        "matrix"
      ],
      "execution_count": 33,
      "outputs": [
        {
          "output_type": "execute_result",
          "data": {
            "text/plain": [
              "[[1, 2, 3], [4, 5, 6], [7, 8, 9]]"
            ]
          },
          "metadata": {
            "tags": []
          },
          "execution_count": 33
        }
      ]
    },
    {
      "cell_type": "markdown",
      "metadata": {
        "id": "UpmQBnDjbYg_",
        "colab_type": "text"
      },
      "source": [
        "We can again use indexing to grab elements, but now there are two levels for the index. The items in the matrix object, and then the items inside that list!"
      ]
    },
    {
      "cell_type": "code",
      "metadata": {
        "id": "5mO3yxIubYhC",
        "colab_type": "code",
        "colab": {
          "base_uri": "https://localhost:8080/",
          "height": 35
        },
        "outputId": "7a85283a-b63e-44bc-f148-2b01d1c8a2a8"
      },
      "source": [
        "# Grab first item in matrix object\n",
        "matrix[0]"
      ],
      "execution_count": 34,
      "outputs": [
        {
          "output_type": "execute_result",
          "data": {
            "text/plain": [
              "[1, 2, 3]"
            ]
          },
          "metadata": {
            "tags": []
          },
          "execution_count": 34
        }
      ]
    },
    {
      "cell_type": "code",
      "metadata": {
        "id": "cZDY5dUObYhX",
        "colab_type": "code",
        "colab": {
          "base_uri": "https://localhost:8080/",
          "height": 35
        },
        "outputId": "16dbb3d0-6b37-4257-ac61-0b9624500bef"
      },
      "source": [
        "# Grab first item of the first item in the matrix object\n",
        "matrix[0][0]"
      ],
      "execution_count": 35,
      "outputs": [
        {
          "output_type": "execute_result",
          "data": {
            "text/plain": [
              "1"
            ]
          },
          "metadata": {
            "tags": []
          },
          "execution_count": 35
        }
      ]
    },
    {
      "cell_type": "markdown",
      "metadata": {
        "id": "j_skW4WfbYho",
        "colab_type": "text"
      },
      "source": [
        "# List Comprehensions\n",
        "Python has an advanced feature called list comprehensions. They allow for quick construction of lists. To fully understand list comprehensions we need to understand for loops. So don't worry if you don't completely understand this section, and feel free to just skip it since we will return to this topic later.\n",
        "\n",
        "But in case you want to know now, here are a few examples!"
      ]
    },
    {
      "cell_type": "code",
      "metadata": {
        "id": "xk7SQ5nfbYhr",
        "colab_type": "code",
        "colab": {}
      },
      "source": [
        "# Build a list comprehension by deconstructing a for loop within a []\n",
        "first_col = [row[0] for row in matrix]"
      ],
      "execution_count": 36,
      "outputs": []
    },
    {
      "cell_type": "code",
      "metadata": {
        "id": "x6xRoVGWbYh3",
        "colab_type": "code",
        "colab": {
          "base_uri": "https://localhost:8080/",
          "height": 35
        },
        "outputId": "354c2f67-ba98-4970-ef19-6592e452e78f"
      },
      "source": [
        "first_col"
      ],
      "execution_count": 37,
      "outputs": [
        {
          "output_type": "execute_result",
          "data": {
            "text/plain": [
              "[1, 4, 7]"
            ]
          },
          "metadata": {
            "tags": []
          },
          "execution_count": 37
        }
      ]
    },
    {
      "cell_type": "markdown",
      "metadata": {
        "id": "aj2GJqzIbYiA",
        "colab_type": "text"
      },
      "source": [
        "We used a list comprehension here to grab the first element of every row in the matrix object. We will cover this in much more detail later on!\n",
        "\n",
        "For more advanced methods and features of lists in Python, check out the Advanced Lists section later on in this course!"
      ]
    }
  ]
}