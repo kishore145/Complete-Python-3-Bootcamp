{
  "nbformat": 4,
  "nbformat_minor": 0,
  "metadata": {
    "kernelspec": {
      "display_name": "Python 3",
      "language": "python",
      "name": "python3"
    },
    "language_info": {
      "codemirror_mode": {
        "name": "ipython",
        "version": 3
      },
      "file_extension": ".py",
      "mimetype": "text/x-python",
      "name": "python",
      "nbconvert_exporter": "python",
      "pygments_lexer": "ipython3",
      "version": "3.6.6"
    },
    "colab": {
      "name": "08-Files.ipynb",
      "provenance": [],
      "toc_visible": true,
      "include_colab_link": true
    }
  },
  "cells": [
    {
      "cell_type": "markdown",
      "metadata": {
        "id": "view-in-github",
        "colab_type": "text"
      },
      "source": [
        "<a href=\"https://colab.research.google.com/github/kishore145/Complete-Python-3-Bootcamp/blob/master/00-Python%20Object%20and%20Data%20Structure%20Basics/08_Files.ipynb\" target=\"_parent\"><img src=\"https://colab.research.google.com/assets/colab-badge.svg\" alt=\"Open In Colab\"/></a>"
      ]
    },
    {
      "cell_type": "markdown",
      "metadata": {
        "id": "TA_lQP71Q6uG",
        "colab_type": "text"
      },
      "source": [
        "# Files\n",
        "\n",
        "Python uses file objects to interact with external files on your computer. These file objects can be any sort of file you have on your computer, whether it be an audio file, a text file, emails, Excel documents, etc. Note: You will probably need to install certain libraries or modules to interact with those various file types, but they are easily available. (We will cover downloading modules later on in the course).\n",
        "\n",
        "Python has a built-in open function that allows us to open and play with basic file types. First we will need a file though. We're going to use some IPython magic to create a text file!\n",
        "\n",
        "## IPython Writing a File \n",
        "#### This function is specific to jupyter notebooks! Alternatively, quickly create a simple .txt file with sublime text editor."
      ]
    },
    {
      "cell_type": "code",
      "metadata": {
        "id": "SDNCD5yaQ6uL",
        "colab_type": "code",
        "colab": {
          "base_uri": "https://localhost:8080/",
          "height": 35
        },
        "outputId": "45121b34-6080-4f92-b318-7e468889cd71"
      },
      "source": [
        "%%writefile test.txt\n",
        "Hello, this is a quick test file."
      ],
      "execution_count": 1,
      "outputs": [
        {
          "output_type": "stream",
          "text": [
            "Writing test.txt\n"
          ],
          "name": "stdout"
        }
      ]
    },
    {
      "cell_type": "markdown",
      "metadata": {
        "id": "S8c_kCBwQ6uf",
        "colab_type": "text"
      },
      "source": [
        "## Python Opening a file\n",
        "\n",
        "Let's being by opening the file test.txt that is located in the same directory as this notebook. For now we will work with files located in the same directory as the notebook or .py script you are using.\n",
        "\n",
        "It is very easy to get an error on this step:"
      ]
    },
    {
      "cell_type": "code",
      "metadata": {
        "id": "lQHvZOOZQ6uj",
        "colab_type": "code",
        "colab": {
          "base_uri": "https://localhost:8080/",
          "height": 172
        },
        "outputId": "57af340e-4644-4dd0-edb9-8334a5d23fda"
      },
      "source": [
        "myfile = open('whoops.txt')"
      ],
      "execution_count": 2,
      "outputs": [
        {
          "output_type": "error",
          "ename": "FileNotFoundError",
          "evalue": "ignored",
          "traceback": [
            "\u001b[0;31m---------------------------------------------------------------------------\u001b[0m",
            "\u001b[0;31mFileNotFoundError\u001b[0m                         Traceback (most recent call last)",
            "\u001b[0;32m<ipython-input-2-410403f4f4b4>\u001b[0m in \u001b[0;36m<module>\u001b[0;34m()\u001b[0m\n\u001b[0;32m----> 1\u001b[0;31m \u001b[0mmyfile\u001b[0m \u001b[0;34m=\u001b[0m \u001b[0mopen\u001b[0m\u001b[0;34m(\u001b[0m\u001b[0;34m'whoops.txt'\u001b[0m\u001b[0;34m)\u001b[0m\u001b[0;34m\u001b[0m\u001b[0;34m\u001b[0m\u001b[0m\n\u001b[0m",
            "\u001b[0;31mFileNotFoundError\u001b[0m: [Errno 2] No such file or directory: 'whoops.txt'"
          ]
        }
      ]
    },
    {
      "cell_type": "markdown",
      "metadata": {
        "id": "GJ79wJfAQ6uu",
        "colab_type": "text"
      },
      "source": [
        "To avoid this error,make sure your .txt file is saved in the same location as your notebook, to check your notebook location, use **pwd**:"
      ]
    },
    {
      "cell_type": "code",
      "metadata": {
        "id": "9KkZ9q65Q6uw",
        "colab_type": "code",
        "colab": {
          "base_uri": "https://localhost:8080/",
          "height": 36
        },
        "outputId": "a387b4e7-2a01-4499-d443-3ad3187e4edd"
      },
      "source": [
        "pwd"
      ],
      "execution_count": 3,
      "outputs": [
        {
          "output_type": "execute_result",
          "data": {
            "application/vnd.google.colaboratory.intrinsic": {
              "type": "string"
            },
            "text/plain": [
              "'/content'"
            ]
          },
          "metadata": {
            "tags": []
          },
          "execution_count": 3
        }
      ]
    },
    {
      "cell_type": "markdown",
      "metadata": {
        "id": "GvlVvPu_Q6u5",
        "colab_type": "text"
      },
      "source": [
        "**Alternatively, to grab files from any location on your computer, simply pass in the entire file path. **\n",
        "\n",
        "For Windows you need to use double \\ so python doesn't treat the second \\ as an escape character, a file path is in the form:\n",
        "\n",
        "    myfile = open(\"C:\\\\Users\\\\YourUserName\\\\Home\\\\Folder\\\\myfile.txt\")\n",
        "\n",
        "For MacOS and Linux you use slashes in the opposite direction:\n",
        "\n",
        "    myfile = open(\"/Users/YouUserName/Folder/myfile.txt\")"
      ]
    },
    {
      "cell_type": "code",
      "metadata": {
        "id": "LqjNWf-IQ6u7",
        "colab_type": "code",
        "colab": {}
      },
      "source": [
        "# Open the text.txt we made earlier\n",
        "my_file = open('test.txt')"
      ],
      "execution_count": 4,
      "outputs": []
    },
    {
      "cell_type": "code",
      "metadata": {
        "id": "EppfVJbtQ6vE",
        "colab_type": "code",
        "colab": {
          "base_uri": "https://localhost:8080/",
          "height": 36
        },
        "outputId": "4557fe52-de87-4131-9a6b-9a31a2d64520"
      },
      "source": [
        "# We can now read the file\n",
        "my_file.read()"
      ],
      "execution_count": 5,
      "outputs": [
        {
          "output_type": "execute_result",
          "data": {
            "application/vnd.google.colaboratory.intrinsic": {
              "type": "string"
            },
            "text/plain": [
              "'Hello, this is a quick test file.'"
            ]
          },
          "metadata": {
            "tags": []
          },
          "execution_count": 5
        }
      ]
    },
    {
      "cell_type": "code",
      "metadata": {
        "id": "X_M3YAXCQ6vR",
        "colab_type": "code",
        "colab": {
          "base_uri": "https://localhost:8080/",
          "height": 36
        },
        "outputId": "ba34ed78-8377-4f9b-dcc6-05ed52893c07"
      },
      "source": [
        "# But what happens if we try to read it again?\n",
        "my_file.read()"
      ],
      "execution_count": 6,
      "outputs": [
        {
          "output_type": "execute_result",
          "data": {
            "application/vnd.google.colaboratory.intrinsic": {
              "type": "string"
            },
            "text/plain": [
              "''"
            ]
          },
          "metadata": {
            "tags": []
          },
          "execution_count": 6
        }
      ]
    },
    {
      "cell_type": "markdown",
      "metadata": {
        "id": "sVGO9wIcQ6va",
        "colab_type": "text"
      },
      "source": [
        "This happens because you can imagine the reading \"cursor\" is at the end of the file after having read it. So there is nothing left to read. We can reset the \"cursor\" like this:"
      ]
    },
    {
      "cell_type": "code",
      "metadata": {
        "id": "acNystQjQ6vb",
        "colab_type": "code",
        "colab": {
          "base_uri": "https://localhost:8080/",
          "height": 35
        },
        "outputId": "481c2cf1-a114-4d39-a7ad-c50e05067bbd"
      },
      "source": [
        "# Seek to the start of file (index 0)\n",
        "my_file.seek(0)"
      ],
      "execution_count": 7,
      "outputs": [
        {
          "output_type": "execute_result",
          "data": {
            "text/plain": [
              "0"
            ]
          },
          "metadata": {
            "tags": []
          },
          "execution_count": 7
        }
      ]
    },
    {
      "cell_type": "code",
      "metadata": {
        "id": "CJBHOVcnQ6vi",
        "colab_type": "code",
        "colab": {
          "base_uri": "https://localhost:8080/",
          "height": 36
        },
        "outputId": "27591ebb-ab90-4917-b3a6-184f5556019e"
      },
      "source": [
        "# Now read again\n",
        "my_file.read()"
      ],
      "execution_count": 8,
      "outputs": [
        {
          "output_type": "execute_result",
          "data": {
            "application/vnd.google.colaboratory.intrinsic": {
              "type": "string"
            },
            "text/plain": [
              "'Hello, this is a quick test file.'"
            ]
          },
          "metadata": {
            "tags": []
          },
          "execution_count": 8
        }
      ]
    },
    {
      "cell_type": "markdown",
      "metadata": {
        "id": "A86d9ZcJQ6vr",
        "colab_type": "text"
      },
      "source": [
        "You can read a file line by line using the readlines method. Use caution with large files, since everything will be held in memory. We will learn how to iterate over large files later in the course."
      ]
    },
    {
      "cell_type": "code",
      "metadata": {
        "id": "KScC9p3KQ6vt",
        "colab_type": "code",
        "colab": {
          "base_uri": "https://localhost:8080/",
          "height": 35
        },
        "outputId": "a542a68b-4bc3-4d95-ca5a-88ab7d29802d"
      },
      "source": [
        "# Readlines returns a list of the lines in the file\n",
        "my_file.seek(0)\n",
        "my_file.readlines()"
      ],
      "execution_count": 9,
      "outputs": [
        {
          "output_type": "execute_result",
          "data": {
            "text/plain": [
              "['Hello, this is a quick test file.']"
            ]
          },
          "metadata": {
            "tags": []
          },
          "execution_count": 9
        }
      ]
    },
    {
      "cell_type": "markdown",
      "metadata": {
        "id": "2FqKMPr1Q6v0",
        "colab_type": "text"
      },
      "source": [
        "When you have finished using a file, it is always good practice to close it."
      ]
    },
    {
      "cell_type": "code",
      "metadata": {
        "id": "FFWGjGIeQ6v2",
        "colab_type": "code",
        "colab": {}
      },
      "source": [
        "my_file.close()"
      ],
      "execution_count": 10,
      "outputs": []
    },
    {
      "cell_type": "markdown",
      "metadata": {
        "id": "D2Lp1CjrQ6v_",
        "colab_type": "text"
      },
      "source": [
        "## Writing to a File\n",
        "\n",
        "By default, the `open()` function will only allow us to read the file. We need to pass the argument `'w'` to write over the file. For example:"
      ]
    },
    {
      "cell_type": "code",
      "metadata": {
        "id": "wMJxaV7eQ6wA",
        "colab_type": "code",
        "colab": {}
      },
      "source": [
        "# Add a second argument to the function, 'w' which stands for write.\n",
        "# Passing 'w+' lets us read and write to the file\n",
        "\n",
        "my_file = open('test.txt','w+')"
      ],
      "execution_count": 11,
      "outputs": []
    },
    {
      "cell_type": "markdown",
      "metadata": {
        "id": "6sqvDxDkQ6wL",
        "colab_type": "text"
      },
      "source": [
        "### <strong><font color='red'>Use caution!</font></strong> \n",
        "Opening a file with `'w'` or `'w+'` truncates the original, meaning that anything that was in the original file **is deleted**!"
      ]
    },
    {
      "cell_type": "code",
      "metadata": {
        "id": "zedXoFigQ6wN",
        "colab_type": "code",
        "colab": {
          "base_uri": "https://localhost:8080/",
          "height": 35
        },
        "outputId": "a114adc8-971d-4fad-969c-718931ae7462"
      },
      "source": [
        "# Write to the file\n",
        "my_file.write('This is a new line')"
      ],
      "execution_count": 12,
      "outputs": [
        {
          "output_type": "execute_result",
          "data": {
            "text/plain": [
              "18"
            ]
          },
          "metadata": {
            "tags": []
          },
          "execution_count": 12
        }
      ]
    },
    {
      "cell_type": "code",
      "metadata": {
        "id": "efC6yBm0Q6wT",
        "colab_type": "code",
        "colab": {
          "base_uri": "https://localhost:8080/",
          "height": 36
        },
        "outputId": "29daa2dc-8b44-4a8f-996c-1f77af044402"
      },
      "source": [
        "# Read the file\n",
        "my_file.seek(0)\n",
        "my_file.read()"
      ],
      "execution_count": 13,
      "outputs": [
        {
          "output_type": "execute_result",
          "data": {
            "application/vnd.google.colaboratory.intrinsic": {
              "type": "string"
            },
            "text/plain": [
              "'This is a new line'"
            ]
          },
          "metadata": {
            "tags": []
          },
          "execution_count": 13
        }
      ]
    },
    {
      "cell_type": "code",
      "metadata": {
        "id": "FPuOnCukQ6wd",
        "colab_type": "code",
        "colab": {}
      },
      "source": [
        "my_file.close()  # always do this when you're done with a file"
      ],
      "execution_count": 14,
      "outputs": []
    },
    {
      "cell_type": "markdown",
      "metadata": {
        "id": "nJvZ-LZ3Q6wm",
        "colab_type": "text"
      },
      "source": [
        "## Appending to a File\n",
        "Passing the argument `'a'` opens the file and puts the pointer at the end, so anything written is appended. Like `'w+'`, `'a+'` lets us read and write to a file. If the file does not exist, one will be created."
      ]
    },
    {
      "cell_type": "code",
      "metadata": {
        "id": "5CQq1pmrQ6wo",
        "colab_type": "code",
        "colab": {
          "base_uri": "https://localhost:8080/",
          "height": 35
        },
        "outputId": "32cc01e4-e386-49ca-97fe-f54a59e2c7f7"
      },
      "source": [
        "my_file = open('test.txt','a+')\n",
        "my_file.write('\\nThis is text being appended to test.txt')\n",
        "my_file.write('\\nAnd another line here.')"
      ],
      "execution_count": 15,
      "outputs": [
        {
          "output_type": "execute_result",
          "data": {
            "text/plain": [
              "23"
            ]
          },
          "metadata": {
            "tags": []
          },
          "execution_count": 15
        }
      ]
    },
    {
      "cell_type": "code",
      "metadata": {
        "id": "EXjgmolVQ6w1",
        "colab_type": "code",
        "colab": {
          "base_uri": "https://localhost:8080/",
          "height": 72
        },
        "outputId": "3671d497-5f9f-4e9e-8ddd-e8d72de1a23d"
      },
      "source": [
        "my_file.seek(0)\n",
        "print(my_file.read())"
      ],
      "execution_count": 16,
      "outputs": [
        {
          "output_type": "stream",
          "text": [
            "This is a new line\n",
            "This is text being appended to test.txt\n",
            "And another line here.\n"
          ],
          "name": "stdout"
        }
      ]
    },
    {
      "cell_type": "code",
      "metadata": {
        "id": "5MB_s3hSQ6xD",
        "colab_type": "code",
        "colab": {}
      },
      "source": [
        "my_file.close()"
      ],
      "execution_count": 17,
      "outputs": []
    },
    {
      "cell_type": "markdown",
      "metadata": {
        "id": "bBvg68ByQ6xN",
        "colab_type": "text"
      },
      "source": [
        "### Appending with `%%writefile`\n",
        "We can do the same thing using IPython cell magic:"
      ]
    },
    {
      "cell_type": "code",
      "metadata": {
        "id": "0D7Ad7XKQ6xP",
        "colab_type": "code",
        "colab": {
          "base_uri": "https://localhost:8080/",
          "height": 35
        },
        "outputId": "8774fb1e-be77-4458-9865-276dda1502b7"
      },
      "source": [
        "%%writefile -a test.txt\n",
        "\n",
        "This is text being appended to test.txt\n",
        "And another line here."
      ],
      "execution_count": 18,
      "outputs": [
        {
          "output_type": "stream",
          "text": [
            "Appending to test.txt\n"
          ],
          "name": "stdout"
        }
      ]
    },
    {
      "cell_type": "markdown",
      "metadata": {
        "id": "5pcGes-MQ6xe",
        "colab_type": "text"
      },
      "source": [
        "Add a blank space if you want the first line to begin on its own line, as Jupyter won't recognize escape sequences like `\\n`"
      ]
    },
    {
      "cell_type": "markdown",
      "metadata": {
        "id": "wgU31R7JQ6xh",
        "colab_type": "text"
      },
      "source": [
        "## Iterating through a File\n",
        "\n",
        "Lets get a quick preview of a for loop by iterating over a text file. First let's make a new text file with some IPython Magic:"
      ]
    },
    {
      "cell_type": "code",
      "metadata": {
        "id": "dD_Ws2geQ6xi",
        "colab_type": "code",
        "colab": {
          "base_uri": "https://localhost:8080/",
          "height": 35
        },
        "outputId": "4fa9573b-b627-4488-dafb-e1ecc589a4a0"
      },
      "source": [
        "%%writefile test.txt\n",
        "First Line\n",
        "Second Line"
      ],
      "execution_count": 19,
      "outputs": [
        {
          "output_type": "stream",
          "text": [
            "Overwriting test.txt\n"
          ],
          "name": "stdout"
        }
      ]
    },
    {
      "cell_type": "markdown",
      "metadata": {
        "id": "duWtJHFVQ6xs",
        "colab_type": "text"
      },
      "source": [
        "Now we can use a little bit of flow to tell the program to for through every line of the file and do something:"
      ]
    },
    {
      "cell_type": "code",
      "metadata": {
        "id": "fuxD8ugmQ6xu",
        "colab_type": "code",
        "colab": {
          "base_uri": "https://localhost:8080/",
          "height": 72
        },
        "outputId": "1b7737ff-1f4e-4551-99a3-b3958045114e"
      },
      "source": [
        "for line in open('test.txt'):\n",
        "    print(line)"
      ],
      "execution_count": 20,
      "outputs": [
        {
          "output_type": "stream",
          "text": [
            "First Line\n",
            "\n",
            "Second Line\n"
          ],
          "name": "stdout"
        }
      ]
    },
    {
      "cell_type": "markdown",
      "metadata": {
        "id": "1BQXuxREQ6x5",
        "colab_type": "text"
      },
      "source": [
        "Don't worry about fully understanding this yet, for loops are coming up soon. But we'll break down what we did above. We said that for every line in this text file, go ahead and print that line. It's important to note a few things here:\n",
        "\n",
        "1. We could have called the \"line\" object anything (see example below).\n",
        "2. By not calling `.read()` on the file, the whole text file was not stored in memory.\n",
        "3. Notice the indent on the second line for print. This whitespace is required in Python."
      ]
    },
    {
      "cell_type": "code",
      "metadata": {
        "id": "Jbih3nmFQ6x6",
        "colab_type": "code",
        "colab": {
          "base_uri": "https://localhost:8080/",
          "height": 72
        },
        "outputId": "8f14cce3-ad5a-4755-a157-f9b71c520682"
      },
      "source": [
        "# Pertaining to the first point above\n",
        "for asdf in open('test.txt'):\n",
        "    print(asdf)"
      ],
      "execution_count": 21,
      "outputs": [
        {
          "output_type": "stream",
          "text": [
            "First Line\n",
            "\n",
            "Second Line\n"
          ],
          "name": "stdout"
        }
      ]
    },
    {
      "cell_type": "markdown",
      "metadata": {
        "id": "Zjq63Y1vQ6yK",
        "colab_type": "text"
      },
      "source": [
        "We'll learn a lot more about this later, but up next: Sets and Booleans!"
      ]
    }
  ]
}