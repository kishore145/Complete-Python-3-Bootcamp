{
  "nbformat": 4,
  "nbformat_minor": 0,
  "metadata": {
    "anaconda-cloud": {},
    "kernelspec": {
      "display_name": "Python 3",
      "language": "python",
      "name": "python3"
    },
    "language_info": {
      "codemirror_mode": {
        "name": "ipython",
        "version": 3
      },
      "file_extension": ".py",
      "mimetype": "text/x-python",
      "name": "python",
      "nbconvert_exporter": "python",
      "pygments_lexer": "ipython3",
      "version": "3.6.6"
    },
    "colab": {
      "name": "10-Objects and Data Structures Assessment Test-Solution.ipynb",
      "provenance": [],
      "include_colab_link": true
    }
  },
  "cells": [
    {
      "cell_type": "markdown",
      "metadata": {
        "id": "view-in-github",
        "colab_type": "text"
      },
      "source": [
        "<a href=\"https://colab.research.google.com/github/kishore145/Complete-Python-3-Bootcamp/blob/master/00-Python%20Object%20and%20Data%20Structure%20Basics/10_Objects_and_Data_Structures_Assessment_Test_Solution.ipynb\" target=\"_parent\"><img src=\"https://colab.research.google.com/assets/colab-badge.svg\" alt=\"Open In Colab\"/></a>"
      ]
    },
    {
      "cell_type": "markdown",
      "metadata": {
        "collapsed": true,
        "id": "jTq-wUfOiqSL",
        "colab_type": "text"
      },
      "source": [
        "## Test your knowledge. \n",
        "\n",
        "** Answer the following questions **"
      ]
    },
    {
      "cell_type": "markdown",
      "metadata": {
        "collapsed": true,
        "id": "8lWAQgr7iqSN",
        "colab_type": "text"
      },
      "source": [
        "Write a brief description of all the following Object Types and Data Structures we've learned about: "
      ]
    },
    {
      "cell_type": "markdown",
      "metadata": {
        "id": "RtUPmuXuiqSP",
        "colab_type": "text"
      },
      "source": [
        "**For the full answers, review the Jupyter notebook introductions of each topic!**\n",
        "\n",
        "[Numbers](http://nbviewer.ipython.org/github/jmportilla/Complete-Python-Bootcamp/blob/master/Numbers.ipynb)\n",
        "\n",
        "[Strings](http://nbviewer.ipython.org/github/jmportilla/Complete-Python-Bootcamp/blob/master/Strings.ipynb)\n",
        "\n",
        "[Lists](http://nbviewer.ipython.org/github/jmportilla/Complete-Python-Bootcamp/blob/master/Lists.ipynb)\n",
        "\n",
        "[Tuples](http://nbviewer.ipython.org/github/jmportilla/Complete-Python-Bootcamp/blob/master/Tuples.ipynb)\n",
        "\n",
        "[Dictionaries](http://nbviewer.ipython.org/github/jmportilla/Complete-Python-Bootcamp/blob/master/Dictionaries.ipynb)\n"
      ]
    },
    {
      "cell_type": "markdown",
      "metadata": {
        "id": "QUB97wb5iqSQ",
        "colab_type": "text"
      },
      "source": [
        "## Numbers\n",
        "\n",
        "Write an equation that uses multiplication, division, an exponent, addition, and subtraction that is equal to 100.25.\n",
        "\n",
        "Hint: This is just to test your memory of the basic arithmetic commands, work backwards from 100.25"
      ]
    },
    {
      "cell_type": "code",
      "metadata": {
        "id": "7F8cMl78iqSS",
        "colab_type": "code",
        "colab": {},
        "outputId": "5dbc3751-fa98-4297-f930-a540f51b22b4"
      },
      "source": [
        "# Your answer is probably different\n",
        "(60 + (10 ** 2) / 4 * 7) - 134.75"
      ],
      "execution_count": null,
      "outputs": [
        {
          "output_type": "execute_result",
          "data": {
            "text/plain": [
              "100.25"
            ]
          },
          "metadata": {
            "tags": []
          },
          "execution_count": 1
        }
      ]
    },
    {
      "cell_type": "markdown",
      "metadata": {
        "id": "ZkWpKvG1iqSa",
        "colab_type": "text"
      },
      "source": [
        "Answer these 3 questions without typing code. Then type code to check your answer.\n",
        "\n",
        "    What is the value of the expression 4 * (6 + 5)\n",
        "    \n",
        "    What is the value of the expression 4 * 6 + 5 \n",
        "    \n",
        "    What is the value of the expression 4 + 6 * 5 "
      ]
    },
    {
      "cell_type": "code",
      "metadata": {
        "id": "x9KnFWA9iqSc",
        "colab_type": "code",
        "colab": {},
        "outputId": "89e92ff4-1ef8-44f8-ac50-ffa1a7b4c31c"
      },
      "source": [
        "4 * (6 + 5)"
      ],
      "execution_count": null,
      "outputs": [
        {
          "output_type": "execute_result",
          "data": {
            "text/plain": [
              "44"
            ]
          },
          "metadata": {
            "tags": []
          },
          "execution_count": 2
        }
      ]
    },
    {
      "cell_type": "code",
      "metadata": {
        "id": "QuB8cPAIiqSj",
        "colab_type": "code",
        "colab": {},
        "outputId": "2373775b-50a1-4b67-f85c-f0e84f4f3879"
      },
      "source": [
        "4 * 6 + 5 "
      ],
      "execution_count": null,
      "outputs": [
        {
          "output_type": "execute_result",
          "data": {
            "text/plain": [
              "29"
            ]
          },
          "metadata": {
            "tags": []
          },
          "execution_count": 3
        }
      ]
    },
    {
      "cell_type": "code",
      "metadata": {
        "id": "F9uBbugbiqSq",
        "colab_type": "code",
        "colab": {},
        "outputId": "a9fb4d47-8e60-43d3-9d9b-8fa817cd3168"
      },
      "source": [
        "4 + 6 * 5 "
      ],
      "execution_count": null,
      "outputs": [
        {
          "output_type": "execute_result",
          "data": {
            "text/plain": [
              "34"
            ]
          },
          "metadata": {
            "tags": []
          },
          "execution_count": 4
        }
      ]
    },
    {
      "cell_type": "markdown",
      "metadata": {
        "id": "qx18__-0iqSx",
        "colab_type": "text"
      },
      "source": [
        "What is the *type* of the result of the expression 3 + 1.5 + 4?"
      ]
    },
    {
      "cell_type": "markdown",
      "metadata": {
        "id": "AUflrP1niqSz",
        "colab_type": "text"
      },
      "source": [
        "**Answer: Floating Point Number**"
      ]
    },
    {
      "cell_type": "markdown",
      "metadata": {
        "id": "dyYqGfFhiqS0",
        "colab_type": "text"
      },
      "source": [
        "What would you use to find a number’s square root, as well as its square? "
      ]
    },
    {
      "cell_type": "code",
      "metadata": {
        "id": "rtbKEp2_iqS1",
        "colab_type": "code",
        "colab": {},
        "outputId": "a33f7cb3-ede4-4241-a748-5096c2bde6f7"
      },
      "source": [
        "# Square root:\n",
        "100 ** 0.5"
      ],
      "execution_count": null,
      "outputs": [
        {
          "output_type": "execute_result",
          "data": {
            "text/plain": [
              "10.0"
            ]
          },
          "metadata": {
            "tags": []
          },
          "execution_count": 5
        }
      ]
    },
    {
      "cell_type": "code",
      "metadata": {
        "id": "xdqOfIXSiqS9",
        "colab_type": "code",
        "colab": {},
        "outputId": "da6adba1-507f-4d5f-9cff-c1d35e09fcbf"
      },
      "source": [
        "# Square:\n",
        "10 ** 2"
      ],
      "execution_count": null,
      "outputs": [
        {
          "output_type": "execute_result",
          "data": {
            "text/plain": [
              "100"
            ]
          },
          "metadata": {
            "tags": []
          },
          "execution_count": 6
        }
      ]
    },
    {
      "cell_type": "markdown",
      "metadata": {
        "id": "0-5sDsnsiqTF",
        "colab_type": "text"
      },
      "source": [
        "## Strings"
      ]
    },
    {
      "cell_type": "markdown",
      "metadata": {
        "id": "e2uxgXMViqTG",
        "colab_type": "text"
      },
      "source": [
        "Given the string 'hello' give an index command that returns 'e'. Enter your code in the cell below:"
      ]
    },
    {
      "cell_type": "code",
      "metadata": {
        "id": "GYLnkRFziqTH",
        "colab_type": "code",
        "colab": {},
        "outputId": "c410f76a-a745-4bf8-d46d-f083da6389ab"
      },
      "source": [
        "s = 'hello'\n",
        "# Print out 'e' using indexing\n",
        "\n",
        "s[1]"
      ],
      "execution_count": null,
      "outputs": [
        {
          "output_type": "execute_result",
          "data": {
            "text/plain": [
              "'e'"
            ]
          },
          "metadata": {
            "tags": []
          },
          "execution_count": 7
        }
      ]
    },
    {
      "cell_type": "markdown",
      "metadata": {
        "id": "kz2b0wr6iqTO",
        "colab_type": "text"
      },
      "source": [
        "Reverse the string 'hello' using slicing:"
      ]
    },
    {
      "cell_type": "code",
      "metadata": {
        "id": "t8xpJ3O5iqTP",
        "colab_type": "code",
        "colab": {},
        "outputId": "2f7abc0e-00a0-4876-8516-5773585e39c1"
      },
      "source": [
        "s ='hello'\n",
        "# Reverse the string using slicing\n",
        "\n",
        "s[::-1]"
      ],
      "execution_count": null,
      "outputs": [
        {
          "output_type": "execute_result",
          "data": {
            "text/plain": [
              "'olleh'"
            ]
          },
          "metadata": {
            "tags": []
          },
          "execution_count": 8
        }
      ]
    },
    {
      "cell_type": "markdown",
      "metadata": {
        "id": "SOhOPrbgiqTW",
        "colab_type": "text"
      },
      "source": [
        "Given the string 'hello', give two methods of producing the letter 'o' using indexing."
      ]
    },
    {
      "cell_type": "code",
      "metadata": {
        "id": "_ZexRD1giqTX",
        "colab_type": "code",
        "colab": {},
        "outputId": "c54767a9-3848-4802-d284-74c3d6354b77"
      },
      "source": [
        "s ='hello'\n",
        "# Print out the 'o'\n",
        "\n",
        "# Method 1:\n",
        "\n",
        "s[-1]"
      ],
      "execution_count": null,
      "outputs": [
        {
          "output_type": "execute_result",
          "data": {
            "text/plain": [
              "'o'"
            ]
          },
          "metadata": {
            "tags": []
          },
          "execution_count": 9
        }
      ]
    },
    {
      "cell_type": "code",
      "metadata": {
        "id": "vmT3NWekiqTd",
        "colab_type": "code",
        "colab": {},
        "outputId": "88e6e2cb-b49b-4330-d6f2-3e5754cae9c9"
      },
      "source": [
        "# Method 2:\n",
        "\n",
        "s[4]"
      ],
      "execution_count": null,
      "outputs": [
        {
          "output_type": "execute_result",
          "data": {
            "text/plain": [
              "'o'"
            ]
          },
          "metadata": {
            "tags": []
          },
          "execution_count": 10
        }
      ]
    },
    {
      "cell_type": "markdown",
      "metadata": {
        "id": "WEP0UIpkiqTk",
        "colab_type": "text"
      },
      "source": [
        "## Lists"
      ]
    },
    {
      "cell_type": "markdown",
      "metadata": {
        "id": "udXSAkHAiqTl",
        "colab_type": "text"
      },
      "source": [
        "Build this list [0,0,0] two separate ways."
      ]
    },
    {
      "cell_type": "code",
      "metadata": {
        "id": "P-mJI5vbiqTm",
        "colab_type": "code",
        "colab": {},
        "outputId": "09af9f67-9b3f-44ac-a074-c77a48497413"
      },
      "source": [
        "# Method 1:\n",
        "[0]*3"
      ],
      "execution_count": null,
      "outputs": [
        {
          "output_type": "execute_result",
          "data": {
            "text/plain": [
              "[0, 0, 0]"
            ]
          },
          "metadata": {
            "tags": []
          },
          "execution_count": 11
        }
      ]
    },
    {
      "cell_type": "code",
      "metadata": {
        "id": "Tr-wlewViqTs",
        "colab_type": "code",
        "colab": {},
        "outputId": "c34fd54c-6e7e-4b3b-e534-046b710c9cac"
      },
      "source": [
        "# Method 2:\n",
        "list2 = [0,0,0]\n",
        "list2"
      ],
      "execution_count": null,
      "outputs": [
        {
          "output_type": "execute_result",
          "data": {
            "text/plain": [
              "[0, 0, 0]"
            ]
          },
          "metadata": {
            "tags": []
          },
          "execution_count": 12
        }
      ]
    },
    {
      "cell_type": "markdown",
      "metadata": {
        "id": "T8hBrxmKiqT4",
        "colab_type": "text"
      },
      "source": [
        "Reassign 'hello' in this nested list to say 'goodbye' instead:"
      ]
    },
    {
      "cell_type": "code",
      "metadata": {
        "id": "BhT1ebefiqT5",
        "colab_type": "code",
        "colab": {}
      },
      "source": [
        "list3 = [1,2,[3,4,'hello']]"
      ],
      "execution_count": null,
      "outputs": []
    },
    {
      "cell_type": "code",
      "metadata": {
        "id": "2D_vP4a_iqT_",
        "colab_type": "code",
        "colab": {}
      },
      "source": [
        "list3[2][2] = 'goodbye'"
      ],
      "execution_count": null,
      "outputs": []
    },
    {
      "cell_type": "code",
      "metadata": {
        "id": "YAtP48z0iqUH",
        "colab_type": "code",
        "colab": {},
        "outputId": "305ca0e5-1fdf-4c1d-be53-861ca809ec7f"
      },
      "source": [
        "list3"
      ],
      "execution_count": null,
      "outputs": [
        {
          "output_type": "execute_result",
          "data": {
            "text/plain": [
              "[1, 2, [3, 4, 'goodbye']]"
            ]
          },
          "metadata": {
            "tags": []
          },
          "execution_count": 15
        }
      ]
    },
    {
      "cell_type": "markdown",
      "metadata": {
        "id": "S8EIuCOhiqUO",
        "colab_type": "text"
      },
      "source": [
        "Sort the list below:"
      ]
    },
    {
      "cell_type": "code",
      "metadata": {
        "id": "Zx5iC3s1iqUP",
        "colab_type": "code",
        "colab": {}
      },
      "source": [
        "list4 = [5,3,4,6,1]"
      ],
      "execution_count": null,
      "outputs": []
    },
    {
      "cell_type": "code",
      "metadata": {
        "id": "cXpYqK0EiqUV",
        "colab_type": "code",
        "colab": {},
        "outputId": "c4d94771-e8f5-4eed-f1b5-113cce8d569c"
      },
      "source": [
        "# Method 1:\n",
        "sorted(list4)"
      ],
      "execution_count": null,
      "outputs": [
        {
          "output_type": "execute_result",
          "data": {
            "text/plain": [
              "[1, 3, 4, 5, 6]"
            ]
          },
          "metadata": {
            "tags": []
          },
          "execution_count": 17
        }
      ]
    },
    {
      "cell_type": "code",
      "metadata": {
        "id": "1iL1RE93iqUa",
        "colab_type": "code",
        "colab": {},
        "outputId": "17b607ef-fd5d-45ac-ee2b-483af6a0e31a"
      },
      "source": [
        "# Method 2:\n",
        "list4.sort()\n",
        "list4"
      ],
      "execution_count": null,
      "outputs": [
        {
          "output_type": "execute_result",
          "data": {
            "text/plain": [
              "[1, 3, 4, 5, 6]"
            ]
          },
          "metadata": {
            "tags": []
          },
          "execution_count": 18
        }
      ]
    },
    {
      "cell_type": "markdown",
      "metadata": {
        "id": "ofP3KGTCiqUg",
        "colab_type": "text"
      },
      "source": [
        "## Dictionaries"
      ]
    },
    {
      "cell_type": "markdown",
      "metadata": {
        "id": "_ah2jBWtiqUh",
        "colab_type": "text"
      },
      "source": [
        "Using keys and indexing, grab the 'hello' from the following dictionaries:"
      ]
    },
    {
      "cell_type": "code",
      "metadata": {
        "id": "4png2-uFiqUi",
        "colab_type": "code",
        "colab": {},
        "outputId": "60b84460-51c5-4bb9-c02d-9d8f85078735"
      },
      "source": [
        "d = {'simple_key':'hello'}\n",
        "# Grab 'hello'\n",
        "\n",
        "d['simple_key']"
      ],
      "execution_count": null,
      "outputs": [
        {
          "output_type": "execute_result",
          "data": {
            "text/plain": [
              "'hello'"
            ]
          },
          "metadata": {
            "tags": []
          },
          "execution_count": 19
        }
      ]
    },
    {
      "cell_type": "code",
      "metadata": {
        "id": "2pkg9vA5iqUm",
        "colab_type": "code",
        "colab": {},
        "outputId": "288dc61c-69c2-4f1b-aa1b-8d411f23ab6d"
      },
      "source": [
        "d = {'k1':{'k2':'hello'}}\n",
        "# Grab 'hello'\n",
        "\n",
        "d['k1']['k2']"
      ],
      "execution_count": null,
      "outputs": [
        {
          "output_type": "execute_result",
          "data": {
            "text/plain": [
              "'hello'"
            ]
          },
          "metadata": {
            "tags": []
          },
          "execution_count": 20
        }
      ]
    },
    {
      "cell_type": "code",
      "metadata": {
        "id": "wrARQBfUiqUq",
        "colab_type": "code",
        "colab": {}
      },
      "source": [
        "# Getting a little tricker\n",
        "d = {'k1':[{'nest_key':['this is deep',['hello']]}]}"
      ],
      "execution_count": null,
      "outputs": []
    },
    {
      "cell_type": "code",
      "metadata": {
        "id": "3OmXQWYCiqUu",
        "colab_type": "code",
        "colab": {},
        "outputId": "4e75a840-7ecf-4e91-bd39-f2d384160ba2"
      },
      "source": [
        "# This was harder than I expected...\n",
        "d['k1'][0]['nest_key'][1][0]"
      ],
      "execution_count": null,
      "outputs": [
        {
          "output_type": "execute_result",
          "data": {
            "text/plain": [
              "'hello'"
            ]
          },
          "metadata": {
            "tags": []
          },
          "execution_count": 22
        }
      ]
    },
    {
      "cell_type": "code",
      "metadata": {
        "id": "2odmRp_LiqUy",
        "colab_type": "code",
        "colab": {}
      },
      "source": [
        "# This will be hard and annoying!\n",
        "d = {'k1':[1,2,{'k2':['this is tricky',{'tough':[1,2,['hello']]}]}]}"
      ],
      "execution_count": null,
      "outputs": []
    },
    {
      "cell_type": "code",
      "metadata": {
        "id": "g1NhOVBNiqU1",
        "colab_type": "code",
        "colab": {},
        "outputId": "d04e98f6-b04e-4f1c-c65b-530652491e4d"
      },
      "source": [
        "# Phew!\n",
        "d['k1'][2]['k2'][1]['tough'][2][0]"
      ],
      "execution_count": null,
      "outputs": [
        {
          "output_type": "execute_result",
          "data": {
            "text/plain": [
              "'hello'"
            ]
          },
          "metadata": {
            "tags": []
          },
          "execution_count": 24
        }
      ]
    },
    {
      "cell_type": "markdown",
      "metadata": {
        "id": "bTrz40FGiqU4",
        "colab_type": "text"
      },
      "source": [
        "Can you sort a dictionary? Why or why not?"
      ]
    },
    {
      "cell_type": "markdown",
      "metadata": {
        "id": "VgwJ1e71iqU4",
        "colab_type": "text"
      },
      "source": [
        "**Answer: No! Because normal dictionaries are *mappings* not a sequence. **"
      ]
    },
    {
      "cell_type": "markdown",
      "metadata": {
        "id": "PaFekBdXiqU5",
        "colab_type": "text"
      },
      "source": [
        "## Tuples"
      ]
    },
    {
      "cell_type": "markdown",
      "metadata": {
        "id": "asqjcn2wiqU5",
        "colab_type": "text"
      },
      "source": [
        "What is the major difference between tuples and lists?"
      ]
    },
    {
      "cell_type": "markdown",
      "metadata": {
        "id": "6WyFGqnliqU6",
        "colab_type": "text"
      },
      "source": [
        "**Tuples are immutable!**"
      ]
    },
    {
      "cell_type": "markdown",
      "metadata": {
        "id": "m0la9tf3iqU6",
        "colab_type": "text"
      },
      "source": [
        "How do you create a tuple?"
      ]
    },
    {
      "cell_type": "code",
      "metadata": {
        "id": "yKvvIAvPiqU7",
        "colab_type": "code",
        "colab": {}
      },
      "source": [
        "t = (1,2,3)"
      ],
      "execution_count": null,
      "outputs": []
    },
    {
      "cell_type": "markdown",
      "metadata": {
        "id": "oeIg0TDhiqU-",
        "colab_type": "text"
      },
      "source": [
        "## Sets "
      ]
    },
    {
      "cell_type": "markdown",
      "metadata": {
        "id": "-8D1iro-iqU-",
        "colab_type": "text"
      },
      "source": [
        "What is unique about a set?"
      ]
    },
    {
      "cell_type": "markdown",
      "metadata": {
        "id": "bqGEFAUaiqU_",
        "colab_type": "text"
      },
      "source": [
        "**Answer: They don't allow for duplicate items!**"
      ]
    },
    {
      "cell_type": "markdown",
      "metadata": {
        "id": "z7i1Zxm0iqU_",
        "colab_type": "text"
      },
      "source": [
        "Use a set to find the unique values of the list below:"
      ]
    },
    {
      "cell_type": "code",
      "metadata": {
        "id": "4wxLIfi3iqVA",
        "colab_type": "code",
        "colab": {}
      },
      "source": [
        "list5 = [1,2,2,33,4,4,11,22,3,3,2]"
      ],
      "execution_count": null,
      "outputs": []
    },
    {
      "cell_type": "code",
      "metadata": {
        "id": "_A8qALSwiqVC",
        "colab_type": "code",
        "colab": {},
        "outputId": "b3d281e6-85ff-4861-ff87-dd88c8a1d26d"
      },
      "source": [
        "set(list5)"
      ],
      "execution_count": null,
      "outputs": [
        {
          "output_type": "execute_result",
          "data": {
            "text/plain": [
              "{1, 2, 3, 4, 11, 22, 33}"
            ]
          },
          "metadata": {
            "tags": []
          },
          "execution_count": 27
        }
      ]
    },
    {
      "cell_type": "markdown",
      "metadata": {
        "id": "xfvqpunTiqVF",
        "colab_type": "text"
      },
      "source": [
        "## Booleans"
      ]
    },
    {
      "cell_type": "markdown",
      "metadata": {
        "id": "7MXlC6z4iqVG",
        "colab_type": "text"
      },
      "source": [
        "For the following quiz questions, we will get a preview of comparison operators. In the table below, a=3 and b=4.\n",
        "\n",
        "<table class=\"table table-bordered\">\n",
        "<tr>\n",
        "<th style=\"width:10%\">Operator</th><th style=\"width:45%\">Description</th><th>Example</th>\n",
        "</tr>\n",
        "<tr>\n",
        "<td>==</td>\n",
        "<td>If the values of two operands are equal, then the condition becomes true.</td>\n",
        "<td> (a == b) is not true.</td>\n",
        "</tr>\n",
        "<tr>\n",
        "<td>!=</td>\n",
        "<td>If values of two operands are not equal, then condition becomes true.</td>\n",
        "<td> (a != b) is true.</td>\n",
        "</tr>\n",
        "<tr>\n",
        "<td>&gt;</td>\n",
        "<td>If the value of left operand is greater than the value of right operand, then condition becomes true.</td>\n",
        "<td> (a &gt; b) is not true.</td>\n",
        "</tr>\n",
        "<tr>\n",
        "<td>&lt;</td>\n",
        "<td>If the value of left operand is less than the value of right operand, then condition becomes true.</td>\n",
        "<td> (a &lt; b) is true.</td>\n",
        "</tr>\n",
        "<tr>\n",
        "<td>&gt;=</td>\n",
        "<td>If the value of left operand is greater than or equal to the value of right operand, then condition becomes true.</td>\n",
        "<td> (a &gt;= b) is not true. </td>\n",
        "</tr>\n",
        "<tr>\n",
        "<td>&lt;=</td>\n",
        "<td>If the value of left operand is less than or equal to the value of right operand, then condition becomes true.</td>\n",
        "<td> (a &lt;= b) is true. </td>\n",
        "</tr>\n",
        "</table>"
      ]
    },
    {
      "cell_type": "markdown",
      "metadata": {
        "id": "3eaFvFhtiqVG",
        "colab_type": "text"
      },
      "source": [
        "What will be the resulting Boolean of the following pieces of code (answer fist then check by typing it in!)"
      ]
    },
    {
      "cell_type": "code",
      "metadata": {
        "id": "MAqKruNCiqVH",
        "colab_type": "code",
        "colab": {},
        "outputId": "23e33de2-2f0a-40a7-f086-9c4acee6f31d"
      },
      "source": [
        "# Answer before running cell\n",
        "2 > 3"
      ],
      "execution_count": null,
      "outputs": [
        {
          "output_type": "execute_result",
          "data": {
            "text/plain": [
              "False"
            ]
          },
          "metadata": {
            "tags": []
          },
          "execution_count": 28
        }
      ]
    },
    {
      "cell_type": "code",
      "metadata": {
        "id": "Exbsrv_DiqVJ",
        "colab_type": "code",
        "colab": {},
        "outputId": "78e2f427-abd8-4757-808d-f72b89449a79"
      },
      "source": [
        "# Answer before running cell\n",
        "3 <= 2"
      ],
      "execution_count": null,
      "outputs": [
        {
          "output_type": "execute_result",
          "data": {
            "text/plain": [
              "False"
            ]
          },
          "metadata": {
            "tags": []
          },
          "execution_count": 29
        }
      ]
    },
    {
      "cell_type": "code",
      "metadata": {
        "id": "9vNXAettiqVN",
        "colab_type": "code",
        "colab": {},
        "outputId": "11b1e687-897a-44e9-eeb3-c337913044c0"
      },
      "source": [
        "# Answer before running cell\n",
        "3 == 2.0"
      ],
      "execution_count": null,
      "outputs": [
        {
          "output_type": "execute_result",
          "data": {
            "text/plain": [
              "False"
            ]
          },
          "metadata": {
            "tags": []
          },
          "execution_count": 30
        }
      ]
    },
    {
      "cell_type": "code",
      "metadata": {
        "id": "3zn6mNYgiqVQ",
        "colab_type": "code",
        "colab": {},
        "outputId": "17a4dfa8-c204-4160-e686-bb2d71bccad4"
      },
      "source": [
        "# Answer before running cell\n",
        "3.0 == 3"
      ],
      "execution_count": null,
      "outputs": [
        {
          "output_type": "execute_result",
          "data": {
            "text/plain": [
              "True"
            ]
          },
          "metadata": {
            "tags": []
          },
          "execution_count": 31
        }
      ]
    },
    {
      "cell_type": "code",
      "metadata": {
        "id": "v3QjNJ8eiqVT",
        "colab_type": "code",
        "colab": {},
        "outputId": "ce0c6634-e701-44df-ebd9-1eb4e00e6b69"
      },
      "source": [
        "# Answer before running cell\n",
        "4**0.5 != 2"
      ],
      "execution_count": null,
      "outputs": [
        {
          "output_type": "execute_result",
          "data": {
            "text/plain": [
              "False"
            ]
          },
          "metadata": {
            "tags": []
          },
          "execution_count": 32
        }
      ]
    },
    {
      "cell_type": "markdown",
      "metadata": {
        "id": "TkVmsrzAiqVZ",
        "colab_type": "text"
      },
      "source": [
        "Final Question: What is the boolean output of the cell block below?"
      ]
    },
    {
      "cell_type": "code",
      "metadata": {
        "id": "nStbmmgbiqVZ",
        "colab_type": "code",
        "colab": {},
        "outputId": "37e499b6-6995-4fae-a1d7-1426ae63b33c"
      },
      "source": [
        "# two nested lists\n",
        "l_one = [1,2,[3,4]]\n",
        "l_two = [1,2,{'k1':4}]\n",
        "\n",
        "# True or False?\n",
        "l_one[2][0] >= l_two[2]['k1']"
      ],
      "execution_count": null,
      "outputs": [
        {
          "output_type": "execute_result",
          "data": {
            "text/plain": [
              "False"
            ]
          },
          "metadata": {
            "tags": []
          },
          "execution_count": 33
        }
      ]
    },
    {
      "cell_type": "markdown",
      "metadata": {
        "id": "fWYc-CoriqVc",
        "colab_type": "text"
      },
      "source": [
        "## Great Job on your first assessment! "
      ]
    }
  ]
}