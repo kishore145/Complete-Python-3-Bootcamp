{
  "nbformat": 4,
  "nbformat_minor": 0,
  "metadata": {
    "kernelspec": {
      "display_name": "Python 3",
      "language": "python",
      "name": "python3"
    },
    "language_info": {
      "codemirror_mode": {
        "name": "ipython",
        "version": 3
      },
      "file_extension": ".py",
      "mimetype": "text/x-python",
      "name": "python",
      "nbconvert_exporter": "python",
      "pygments_lexer": "ipython3",
      "version": "3.6.6"
    },
    "colab": {
      "name": "03-for Loops.ipynb",
      "provenance": [],
      "include_colab_link": true
    }
  },
  "cells": [
    {
      "cell_type": "markdown",
      "metadata": {
        "id": "view-in-github",
        "colab_type": "text"
      },
      "source": [
        "<a href=\"https://colab.research.google.com/github/kishore145/Complete-Python-3-Bootcamp/blob/master/02-Python%20Statements/03_for_Loops.ipynb\" target=\"_parent\"><img src=\"https://colab.research.google.com/assets/colab-badge.svg\" alt=\"Open In Colab\"/></a>"
      ]
    },
    {
      "cell_type": "markdown",
      "metadata": {
        "id": "oeG3Tj4CoFHc",
        "colab_type": "text"
      },
      "source": [
        "# for Loops\n",
        "\n",
        "A <code>for</code> loop acts as an iterator in Python; it goes through items that are in a *sequence* or any other iterable item. Objects that we've learned about that we can iterate over include strings, lists, tuples, and even built-in iterables for dictionaries, such as keys or values.\n",
        "\n",
        "We've already seen the <code>for</code> statement a little bit in past lectures but now let's formalize our understanding.\n",
        "\n",
        "Here's the general format for a <code>for</code> loop in Python:\n",
        "\n",
        "    for item in object:\n",
        "        statements to do stuff\n",
        "    "
      ]
    },
    {
      "cell_type": "markdown",
      "metadata": {
        "id": "Z-MsR-H_oFHf",
        "colab_type": "text"
      },
      "source": [
        "The variable name used for the item is completely up to the coder, so use your best judgment for choosing a name that makes sense and you will be able to understand when revisiting your code. This item name can then be referenced inside your loop, for example if you wanted to use <code>if</code> statements to perform checks.\n",
        "\n",
        "Let's go ahead and work through several example of <code>for</code> loops using a variety of data object types. We'll start simple and build more complexity later on.\n",
        "\n",
        "## Example 1\n",
        "Iterating through a list"
      ]
    },
    {
      "cell_type": "code",
      "metadata": {
        "id": "dIVBFqomoFHh",
        "colab_type": "code",
        "colab": {}
      },
      "source": [
        "# We'll learn how to automate this sort of list in the next lecture\n",
        "list1 = [1,2,3,4,5,6,7,8,9,10]"
      ],
      "execution_count": 1,
      "outputs": []
    },
    {
      "cell_type": "code",
      "metadata": {
        "id": "x8vEOiiLoFHv",
        "colab_type": "code",
        "colab": {
          "base_uri": "https://localhost:8080/",
          "height": 187
        },
        "outputId": "52a9e392-041b-4b6f-a368-5127086d0cc8"
      },
      "source": [
        "for num in list1:\n",
        "    print(num)"
      ],
      "execution_count": 2,
      "outputs": [
        {
          "output_type": "stream",
          "text": [
            "1\n",
            "2\n",
            "3\n",
            "4\n",
            "5\n",
            "6\n",
            "7\n",
            "8\n",
            "9\n",
            "10\n"
          ],
          "name": "stdout"
        }
      ]
    },
    {
      "cell_type": "markdown",
      "metadata": {
        "id": "EqQ1zG6JoFH8",
        "colab_type": "text"
      },
      "source": [
        "Great! Hopefully this makes sense. Now let's add an <code>if</code> statement to check for even numbers. We'll first introduce a new concept here--the modulo.\n",
        "### Modulo\n",
        "The modulo allows us to get the remainder in a division and uses the % symbol. For example:"
      ]
    },
    {
      "cell_type": "code",
      "metadata": {
        "id": "7sJZJsW6oFH-",
        "colab_type": "code",
        "colab": {
          "base_uri": "https://localhost:8080/",
          "height": 34
        },
        "outputId": "9db98db0-2b60-4584-f024-df379a468ee3"
      },
      "source": [
        "17 % 5"
      ],
      "execution_count": 3,
      "outputs": [
        {
          "output_type": "execute_result",
          "data": {
            "text/plain": [
              "2"
            ]
          },
          "metadata": {
            "tags": []
          },
          "execution_count": 3
        }
      ]
    },
    {
      "cell_type": "markdown",
      "metadata": {
        "id": "QRrbDeQQoFIJ",
        "colab_type": "text"
      },
      "source": [
        "This makes sense since 17 divided by 5 is 3 remainder 2. Let's see a few more quick examples:"
      ]
    },
    {
      "cell_type": "code",
      "metadata": {
        "id": "h0xzwS68oFIL",
        "colab_type": "code",
        "colab": {
          "base_uri": "https://localhost:8080/",
          "height": 34
        },
        "outputId": "d8fd0757-2a25-43fd-cbc4-c3fa11458966"
      },
      "source": [
        "# 3 Remainder 1\n",
        "10 % 3"
      ],
      "execution_count": 4,
      "outputs": [
        {
          "output_type": "execute_result",
          "data": {
            "text/plain": [
              "1"
            ]
          },
          "metadata": {
            "tags": []
          },
          "execution_count": 4
        }
      ]
    },
    {
      "cell_type": "code",
      "metadata": {
        "id": "KntQPlJSoFIU",
        "colab_type": "code",
        "colab": {
          "base_uri": "https://localhost:8080/",
          "height": 34
        },
        "outputId": "72e6a507-2ece-4a9f-d115-2b5d8e89b459"
      },
      "source": [
        "# 2 Remainder 4\n",
        "18 % 7"
      ],
      "execution_count": 5,
      "outputs": [
        {
          "output_type": "execute_result",
          "data": {
            "text/plain": [
              "4"
            ]
          },
          "metadata": {
            "tags": []
          },
          "execution_count": 5
        }
      ]
    },
    {
      "cell_type": "code",
      "metadata": {
        "id": "IVxEIuK7oFIa",
        "colab_type": "code",
        "colab": {
          "base_uri": "https://localhost:8080/",
          "height": 34
        },
        "outputId": "a35bb967-58b1-4ec1-ac72-81d1e1fbdffd"
      },
      "source": [
        "# 2 no remainder\n",
        "4 % 2"
      ],
      "execution_count": 6,
      "outputs": [
        {
          "output_type": "execute_result",
          "data": {
            "text/plain": [
              "0"
            ]
          },
          "metadata": {
            "tags": []
          },
          "execution_count": 6
        }
      ]
    },
    {
      "cell_type": "markdown",
      "metadata": {
        "id": "0XMbibfioFIg",
        "colab_type": "text"
      },
      "source": [
        "Notice that if a number is fully divisible with no remainder, the result of the modulo call is 0. We can use this to test for even numbers, since if a number modulo 2 is equal to 0, that means it is an even number!\n",
        "\n",
        "Back to the <code>for</code> loops!\n",
        "\n",
        "## Example 2\n",
        "Let's print only the even numbers from that list!"
      ]
    },
    {
      "cell_type": "code",
      "metadata": {
        "id": "t46WS_P-oFIj",
        "colab_type": "code",
        "colab": {
          "base_uri": "https://localhost:8080/",
          "height": 102
        },
        "outputId": "b68e2678-360e-47d0-c4f1-b33ef438a562"
      },
      "source": [
        "for num in list1:\n",
        "    if num % 2 == 0:\n",
        "        print(num)"
      ],
      "execution_count": 7,
      "outputs": [
        {
          "output_type": "stream",
          "text": [
            "2\n",
            "4\n",
            "6\n",
            "8\n",
            "10\n"
          ],
          "name": "stdout"
        }
      ]
    },
    {
      "cell_type": "markdown",
      "metadata": {
        "id": "TgQ_sE2GoFIp",
        "colab_type": "text"
      },
      "source": [
        "We could have also put an <code>else</code> statement in there:"
      ]
    },
    {
      "cell_type": "code",
      "metadata": {
        "id": "K5agAm74oFIq",
        "colab_type": "code",
        "colab": {
          "base_uri": "https://localhost:8080/",
          "height": 187
        },
        "outputId": "c257f0b1-78bf-4f5f-ea3c-5b083016e96d"
      },
      "source": [
        "for num in list1:\n",
        "    if num % 2 == 0:\n",
        "        print(num)\n",
        "    else:\n",
        "        print('Odd number')"
      ],
      "execution_count": 8,
      "outputs": [
        {
          "output_type": "stream",
          "text": [
            "Odd number\n",
            "2\n",
            "Odd number\n",
            "4\n",
            "Odd number\n",
            "6\n",
            "Odd number\n",
            "8\n",
            "Odd number\n",
            "10\n"
          ],
          "name": "stdout"
        }
      ]
    },
    {
      "cell_type": "markdown",
      "metadata": {
        "id": "lgrmdGswoFIt",
        "colab_type": "text"
      },
      "source": [
        "## Example 3\n",
        "Another common idea during a <code>for</code> loop is keeping some sort of running tally during multiple loops. For example, let's create a <code>for</code> loop that sums up the list:"
      ]
    },
    {
      "cell_type": "code",
      "metadata": {
        "id": "KeGuOkXBoFIu",
        "colab_type": "code",
        "colab": {
          "base_uri": "https://localhost:8080/",
          "height": 34
        },
        "outputId": "8557ed68-7d07-4960-a0ab-9f1cc35f1fd2"
      },
      "source": [
        "# Start sum at zero\n",
        "list_sum = 0 \n",
        "\n",
        "for num in list1:\n",
        "    list_sum = list_sum + num\n",
        "\n",
        "print(list_sum)"
      ],
      "execution_count": 9,
      "outputs": [
        {
          "output_type": "stream",
          "text": [
            "55\n"
          ],
          "name": "stdout"
        }
      ]
    },
    {
      "cell_type": "markdown",
      "metadata": {
        "id": "Fz1Ia9T9oFIz",
        "colab_type": "text"
      },
      "source": [
        "Great! Read over the above cell and make sure you understand fully what is going on. Also we could have implemented a <code>+=</code> to perform the addition towards the sum. For example:"
      ]
    },
    {
      "cell_type": "code",
      "metadata": {
        "id": "MkBwek8-oFIz",
        "colab_type": "code",
        "colab": {
          "base_uri": "https://localhost:8080/",
          "height": 34
        },
        "outputId": "60b69447-429c-4ea5-80b0-8ba5ecaadd8b"
      },
      "source": [
        "# Start sum at zero\n",
        "list_sum = 0 \n",
        "\n",
        "for num in list1:\n",
        "    list_sum += num\n",
        "\n",
        "print(list_sum)"
      ],
      "execution_count": 10,
      "outputs": [
        {
          "output_type": "stream",
          "text": [
            "55\n"
          ],
          "name": "stdout"
        }
      ]
    },
    {
      "cell_type": "markdown",
      "metadata": {
        "id": "iDovCxOHoFI4",
        "colab_type": "text"
      },
      "source": [
        "## Example 4\n",
        "We've used <code>for</code> loops with lists, how about with strings? Remember strings are a sequence so when we iterate through them we will be accessing each item in that string."
      ]
    },
    {
      "cell_type": "code",
      "metadata": {
        "id": "5QLLtmfLoFI5",
        "colab_type": "code",
        "colab": {
          "base_uri": "https://localhost:8080/",
          "height": 306
        },
        "outputId": "a26c203a-a238-4c56-f3bd-aebe6e8cecd7"
      },
      "source": [
        "for letter in 'This is a string.':\n",
        "    print(letter)"
      ],
      "execution_count": 11,
      "outputs": [
        {
          "output_type": "stream",
          "text": [
            "T\n",
            "h\n",
            "i\n",
            "s\n",
            " \n",
            "i\n",
            "s\n",
            " \n",
            "a\n",
            " \n",
            "s\n",
            "t\n",
            "r\n",
            "i\n",
            "n\n",
            "g\n",
            ".\n"
          ],
          "name": "stdout"
        }
      ]
    },
    {
      "cell_type": "markdown",
      "metadata": {
        "id": "z324xGCaoFI-",
        "colab_type": "text"
      },
      "source": [
        "## Example 5\n",
        "Let's now look at how a <code>for</code> loop can be used with a tuple:"
      ]
    },
    {
      "cell_type": "code",
      "metadata": {
        "id": "jC1VNCbioFI_",
        "colab_type": "code",
        "colab": {
          "base_uri": "https://localhost:8080/",
          "height": 102
        },
        "outputId": "0e32677d-ebfa-4075-97ba-0ea296f28f23"
      },
      "source": [
        "tup = (1,2,3,4,5)\n",
        "\n",
        "for t in tup:\n",
        "    print(t)"
      ],
      "execution_count": 12,
      "outputs": [
        {
          "output_type": "stream",
          "text": [
            "1\n",
            "2\n",
            "3\n",
            "4\n",
            "5\n"
          ],
          "name": "stdout"
        }
      ]
    },
    {
      "cell_type": "markdown",
      "metadata": {
        "id": "z-q5Np6koFJE",
        "colab_type": "text"
      },
      "source": [
        "## Example 6\n",
        "Tuples have a special quality when it comes to <code>for</code> loops. If you are iterating through a sequence that contains tuples, the item can actually be the tuple itself, this is an example of *tuple unpacking*. During the <code>for</code> loop we will be unpacking the tuple inside of a sequence and we can access the individual items inside that tuple!"
      ]
    },
    {
      "cell_type": "code",
      "metadata": {
        "id": "CNbHqP37oFJF",
        "colab_type": "code",
        "colab": {}
      },
      "source": [
        "list2 = [(2,4),(6,8),(10,12)]"
      ],
      "execution_count": 13,
      "outputs": []
    },
    {
      "cell_type": "code",
      "metadata": {
        "id": "U95MfyLPoFJK",
        "colab_type": "code",
        "colab": {
          "base_uri": "https://localhost:8080/",
          "height": 68
        },
        "outputId": "089a8b3f-67b3-4093-ee38-b468e19ce6fc"
      },
      "source": [
        "for tup in list2:\n",
        "    print(tup)"
      ],
      "execution_count": 14,
      "outputs": [
        {
          "output_type": "stream",
          "text": [
            "(2, 4)\n",
            "(6, 8)\n",
            "(10, 12)\n"
          ],
          "name": "stdout"
        }
      ]
    },
    {
      "cell_type": "code",
      "metadata": {
        "id": "0ni36mNIoFJP",
        "colab_type": "code",
        "colab": {
          "base_uri": "https://localhost:8080/",
          "height": 68
        },
        "outputId": "fa520adf-93fc-4c28-fd46-5a1dc8ce61f4"
      },
      "source": [
        "# Now with unpacking!\n",
        "for (t1,t2) in list2:\n",
        "    print(t1)"
      ],
      "execution_count": 15,
      "outputs": [
        {
          "output_type": "stream",
          "text": [
            "2\n",
            "6\n",
            "10\n"
          ],
          "name": "stdout"
        }
      ]
    },
    {
      "cell_type": "markdown",
      "metadata": {
        "id": "szlm2NnvoFJV",
        "colab_type": "text"
      },
      "source": [
        "Cool! With tuples in a sequence we can access the items inside of them through unpacking! The reason this is important is because many objects will deliver their iterables through tuples. Let's start exploring iterating through Dictionaries to explore this further!"
      ]
    },
    {
      "cell_type": "markdown",
      "metadata": {
        "id": "WzHWFX3LoFJX",
        "colab_type": "text"
      },
      "source": [
        "## Example 7"
      ]
    },
    {
      "cell_type": "code",
      "metadata": {
        "id": "nkfCSSGjoFJY",
        "colab_type": "code",
        "colab": {}
      },
      "source": [
        "d = {'k1':1,'k2':2,'k3':3}"
      ],
      "execution_count": 16,
      "outputs": []
    },
    {
      "cell_type": "code",
      "metadata": {
        "id": "eO9dXKeboFJe",
        "colab_type": "code",
        "colab": {
          "base_uri": "https://localhost:8080/",
          "height": 68
        },
        "outputId": "ce8952be-3157-4427-ff5f-aa4889a3e00d"
      },
      "source": [
        "for item in d:\n",
        "    print(item)"
      ],
      "execution_count": 17,
      "outputs": [
        {
          "output_type": "stream",
          "text": [
            "k1\n",
            "k2\n",
            "k3\n"
          ],
          "name": "stdout"
        }
      ]
    },
    {
      "cell_type": "markdown",
      "metadata": {
        "id": "ZWP6QNigoFJj",
        "colab_type": "text"
      },
      "source": [
        "Notice how this produces only the keys. So how can we get the values? Or both the keys and the values? \n",
        "\n",
        "We're going to introduce three new Dictionary methods: **.keys()**, **.values()** and **.items()**\n",
        "\n",
        "In Python each of these methods return a *dictionary view object*. It supports operations like membership test and iteration, but its contents are not independent of the original dictionary – it is only a view. Let's see it in action:"
      ]
    },
    {
      "cell_type": "code",
      "metadata": {
        "id": "Pqnio333oFJj",
        "colab_type": "code",
        "colab": {
          "base_uri": "https://localhost:8080/",
          "height": 34
        },
        "outputId": "f80923aa-f26a-48a3-c524-f89e5a1e0e9b"
      },
      "source": [
        "# Create a dictionary view object\n",
        "d.items()"
      ],
      "execution_count": 18,
      "outputs": [
        {
          "output_type": "execute_result",
          "data": {
            "text/plain": [
              "dict_items([('k1', 1), ('k2', 2), ('k3', 3)])"
            ]
          },
          "metadata": {
            "tags": []
          },
          "execution_count": 18
        }
      ]
    },
    {
      "cell_type": "markdown",
      "metadata": {
        "id": "LVUAt8PmoFJn",
        "colab_type": "text"
      },
      "source": [
        "Since the .items() method supports iteration, we can perform *dictionary unpacking* to separate keys and values just as we did in the previous examples."
      ]
    },
    {
      "cell_type": "code",
      "metadata": {
        "id": "bgkiVC_JoFJo",
        "colab_type": "code",
        "colab": {
          "base_uri": "https://localhost:8080/",
          "height": 119
        },
        "outputId": "107714ce-d77d-426c-81e0-effbe140274a"
      },
      "source": [
        "# Dictionary unpacking\n",
        "for k,v in d.items():\n",
        "    print(k)\n",
        "    print(v) "
      ],
      "execution_count": 19,
      "outputs": [
        {
          "output_type": "stream",
          "text": [
            "k1\n",
            "1\n",
            "k2\n",
            "2\n",
            "k3\n",
            "3\n"
          ],
          "name": "stdout"
        }
      ]
    },
    {
      "cell_type": "markdown",
      "metadata": {
        "id": "ldwtBvKsoFJr",
        "colab_type": "text"
      },
      "source": [
        "If you want to obtain a true list of keys, values, or key/value tuples, you can *cast* the view as a list:"
      ]
    },
    {
      "cell_type": "code",
      "metadata": {
        "id": "HejzyIW9oFJs",
        "colab_type": "code",
        "colab": {
          "base_uri": "https://localhost:8080/",
          "height": 34
        },
        "outputId": "813b6360-0f65-4f9b-b47d-dd4f3956a4fa"
      },
      "source": [
        "list(d.keys())"
      ],
      "execution_count": 20,
      "outputs": [
        {
          "output_type": "execute_result",
          "data": {
            "text/plain": [
              "['k1', 'k2', 'k3']"
            ]
          },
          "metadata": {
            "tags": []
          },
          "execution_count": 20
        }
      ]
    },
    {
      "cell_type": "markdown",
      "metadata": {
        "id": "dj7N02MooFJx",
        "colab_type": "text"
      },
      "source": [
        "Remember that dictionaries are unordered, and that keys and values come back in arbitrary order. You can obtain a sorted list using sorted():"
      ]
    },
    {
      "cell_type": "code",
      "metadata": {
        "id": "-6nC-WhsoFJx",
        "colab_type": "code",
        "colab": {
          "base_uri": "https://localhost:8080/",
          "height": 34
        },
        "outputId": "5a459123-c4de-417c-a377-6a634e3b8e85"
      },
      "source": [
        "sorted(d.values())"
      ],
      "execution_count": 21,
      "outputs": [
        {
          "output_type": "execute_result",
          "data": {
            "text/plain": [
              "[1, 2, 3]"
            ]
          },
          "metadata": {
            "tags": []
          },
          "execution_count": 21
        }
      ]
    },
    {
      "cell_type": "markdown",
      "metadata": {
        "id": "0X-HJfCNoFJ3",
        "colab_type": "text"
      },
      "source": [
        "## Conclusion\n",
        "\n",
        "We've learned how to use for loops to iterate through tuples, lists, strings, and dictionaries. It will be an important tool for us, so make sure you know it well and understood the above examples.\n",
        "\n",
        "[More resources](http://www.tutorialspoint.com/python/python_for_loop.htm)"
      ]
    }
  ]
}